{
 "cells": [
  {
   "cell_type": "markdown",
   "id": "3c7892a4",
   "metadata": {},
   "source": [
    "# Ciclos y Condicionales"
   ]
  },
  {
   "cell_type": "code",
   "execution_count": null,
   "id": "edf27723",
   "metadata": {},
   "outputs": [
    {
     "name": "stdout",
     "output_type": "stream",
     "text": [
      "None\n"
     ]
    }
   ],
   "source": [
    "#None\n",
    "# .get('llave') --> None(ausencia de valor)\n",
    "user = None # Null - Nil\n",
    "print(user)"
   ]
  },
  {
   "cell_type": "code",
   "execution_count": null,
   "id": "b35f69b5",
   "metadata": {},
   "outputs": [],
   "source": [
    "#Valores Falsos\n",
    "#True/False\n",
    "#\"\",'',0,0.0,False,[],(),{},None -->formas en python para representar falsos\n",
    "#\" \",'a',1,-1,1.0,-1.0,[1],(1),{1} --> verdadero"
   ]
  },
  {
   "cell_type": "code",
   "execution_count": null,
   "id": "bd6d86af",
   "metadata": {},
   "outputs": [],
   "source": [
    "#IF-Parte1\n",
    "\"\"\"\n",
    "if <bool>:\n",
    "    print(\"Hola Mundo\")\n",
    "    print(\"Mensaje de Bienvenida\")\n",
    "\"\"\"\n",
    "if True:\n",
    "    print(\"Condicion Verdadera\")\n",
    "\n",
    "if False:\n",
    "    print(\"Condicion Falsa\")"
   ]
  },
  {
   "cell_type": "code",
   "execution_count": null,
   "id": "2f8b03d1",
   "metadata": {},
   "outputs": [],
   "source": [
    "#IF-Parte2\n",
    "value = 'Cody'\n",
    "\n",
    "if len(value) > 0:\n",
    "    print(\"Mensaje\")"
   ]
  },
  {
   "cell_type": "code",
   "execution_count": null,
   "id": "a3ac475c",
   "metadata": {},
   "outputs": [],
   "source": [
    "#Else\n",
    "value = ''\n",
    "if not value:\n",
    "    print('La variable posee valor')\n",
    "else:\n",
    "    print(\"Bloque else\")"
   ]
  },
  {
   "cell_type": "code",
   "execution_count": null,
   "id": "257b545b",
   "metadata": {},
   "outputs": [],
   "source": [
    "#Condiciones Anidadas\n",
    "num1 = 10\n",
    "num2 = 20\n",
    "\n",
    "if num1 >= 10:\n",
    "    print('num1 es igual o mayor a 10')\n",
    "    \n",
    "    if num1 >= num2:\n",
    "        print('num1 es mayor a num2')\n",
    "    else:\n",
    "        print('num1 es menor')"
   ]
  },
  {
   "cell_type": "code",
   "execution_count": null,
   "id": "f3236c25",
   "metadata": {},
   "outputs": [],
   "source": [
    "#ELIF\n",
    "\"\"\"\n",
    "if <bool>:\n",
    "    ...\n",
    "else:\n",
    "    ...\n",
    "\"\"\"\n",
    "color = 'rojo'\n",
    "\n",
    "if color == 'verde':\n",
    "    print(\"Puedes continuar\")\n",
    "else:\n",
    "    if color == 'amarillo':\n",
    "        print('Alto parcial')\n",
    "    if color == 'rojo':\n",
    "        print('Alto total')\n",
    "#forma con elif\n",
    "if color == 'verde':\n",
    "    print(\"Puedes continuar\")\n",
    "elif color == 'amarillo':\n",
    "    print('Alto parcial')\n",
    "elif color == 'rojo':\n",
    "    print('Alto total')\n",
    "else:\n",
    "    print('El color no es valido')"
   ]
  },
  {
   "cell_type": "code",
   "execution_count": null,
   "id": "eed32cb2",
   "metadata": {},
   "outputs": [],
   "source": [
    "#Match --> Switch\n",
    "score = 1\n",
    "\n",
    "match score:\n",
    "    case 10:\n",
    "        print('tu nota es Sobresaliente!')\n",
    "    case 7 | 8 | 9:\n",
    "        print('Tu nota es Exelente!')\n",
    "    case 4 | 5 | 6:\n",
    "        print('Tu nota es suficiente!')\n",
    "    case _:\n",
    "        print(\"Has desaprobado!\")"
   ]
  },
  {
   "cell_type": "code",
   "execution_count": null,
   "id": "48c27959",
   "metadata": {},
   "outputs": [],
   "source": [
    "#Operador Ternario\n",
    "score = 4\n",
    "\n",
    "message = 'Aprobaste la materia' if score > 4 else 'Desaprobaste'\n",
    "print(message)"
   ]
  },
  {
   "cell_type": "code",
   "execution_count": null,
   "id": "f74c9f2a",
   "metadata": {},
   "outputs": [],
   "source": [
    "#For each\n",
    "\n",
    "numbers = [1, 2, 3, 4, 5]\n",
    "user = {\n",
    "    'name': 'Luciano',\n",
    "    'age': 31,\n",
    "    'password': 'password123'\n",
    "}\n",
    "\n",
    "\"\"\"\n",
    "for <variable> in <collection>\n",
    "    ...\n",
    "\"\"\"\n",
    "for number in numbers:\n",
    "    print(number)\n",
    "\n",
    "for key, value in user.items():\n",
    "    print(f'llave: {key}, valor: {value}')"
   ]
  },
  {
   "cell_type": "code",
   "execution_count": null,
   "id": "96361ccc",
   "metadata": {},
   "outputs": [],
   "source": [
    "#Funcion Range\n",
    "#range(5, 10)--> 5-9\n",
    "for number in range(5, 10):\n",
    "    print(number)\n",
    "\n",
    "number = [1, 2, 3, 4, 5]\n",
    "courses = ['python', 'go', 'java', 'django']\n",
    "\n",
    "for index in range(len(courses)):\n",
    "    print(courses[index])"
   ]
  },
  {
   "cell_type": "code",
   "execution_count": null,
   "id": "60c27645",
   "metadata": {},
   "outputs": [],
   "source": [
    "#Ciclo while - parte 1\n",
    "\"\"\"\n",
    "while <condicion>:\n",
    "    ...\n",
    "\"\"\"\n",
    "counter = 0\n",
    "\n",
    "while counter < 5:\n",
    "    print(f'valor: {counter}')\n",
    "    counter += 1\n",
    "\n",
    "for number in range(0, 5):\n",
    "    print(number)\n",
    "    \n",
    "number = 123456789\n",
    "counter = 0\n",
    "\n",
    "while number > 0:\n",
    "    number = number // 10\n",
    "    counter += 1\n",
    "\n",
    "print(counter)"
   ]
  },
  {
   "cell_type": "code",
   "execution_count": null,
   "id": "9e6dda67",
   "metadata": {},
   "outputs": [],
   "source": [
    "#Ciclo while - parte 2\n",
    "from random import randint\n",
    "number = None\n",
    "random_number = randint(0, 10)\n",
    "hits = 0\n",
    "\n",
    "while number != random_number and hits < 3:\n",
    "    number = int(input(\"Ingrese un numero: \"))#str\n",
    "    if random_number > number:\n",
    "        print(\"El numero aleatorio es mayor\")\n",
    "    else:\n",
    "        print(\"El numero aleatorio es menor\")\n",
    "    hits += 1\n",
    "else:\n",
    "    if number == random_number:\n",
    "        print(f\"Felicidades encontraste el numero! {random_number}\")\n",
    "    else:\n",
    "        print(\"Lo sentimos, no encontraste el numero\")\n",
    "\n"
   ]
  },
  {
   "cell_type": "code",
   "execution_count": null,
   "id": "4596e733",
   "metadata": {},
   "outputs": [],
   "source": [
    "#Break & continue\n",
    "\n",
    "for number in range(1, 11):\n",
    "    \n",
    "    if number % 2 == 0:\n",
    "        continue\n",
    "    \n",
    "    if number == 9:\n",
    "        break\n",
    "    \n",
    "    print(number)"
   ]
  },
  {
   "cell_type": "code",
   "execution_count": null,
   "id": "c9ee1baf",
   "metadata": {},
   "outputs": [],
   "source": [
    "#Pass\n",
    "\n",
    "var = None\n",
    "\n",
    "if var == None:\n",
    "    pass #pass o ... se usa para crear un bloque vacio"
   ]
  },
  {
   "cell_type": "code",
   "execution_count": 51,
   "id": "7a55f350",
   "metadata": {},
   "outputs": [
    {
     "name": "stdout",
     "output_type": "stream",
     "text": [
      "4\n"
     ]
    }
   ],
   "source": [
    "sentence = \"Hola. mundo Curso de Python.\"\n",
    "counter = 0\n",
    "\n",
    "while sentence[counter] != \".\":\n",
    "    counter += 1\n",
    "print(counter)"
   ]
  }
 ],
 "metadata": {
  "kernelspec": {
   "display_name": "Python 3",
   "language": "python",
   "name": "python3"
  },
  "language_info": {
   "codemirror_mode": {
    "name": "ipython",
    "version": 3
   },
   "file_extension": ".py",
   "mimetype": "text/x-python",
   "name": "python",
   "nbconvert_exporter": "python",
   "pygments_lexer": "ipython3",
   "version": "3.13.7"
  }
 },
 "nbformat": 4,
 "nbformat_minor": 5
}
