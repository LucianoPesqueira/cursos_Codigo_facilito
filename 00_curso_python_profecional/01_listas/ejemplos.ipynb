{
 "cells": [
  {
   "cell_type": "markdown",
   "id": "ef0361ca",
   "metadata": {},
   "source": [
    "# Listas"
   ]
  },
  {
   "cell_type": "markdown",
   "id": "88e2fc4c",
   "metadata": {},
   "source": [
    "declaracion de lista\n",
    "```python\n",
    "<variable> = []\n",
    "```\n",
    "!No es recomendable trabajar con listas de multiples tipos de datos"
   ]
  },
  {
   "cell_type": "code",
   "execution_count": null,
   "id": "dcba372c",
   "metadata": {},
   "outputs": [],
   "source": [
    "my_list = [\"String\", 10, 3.14, True, [1,2,3]]\n",
    "print(my_list)\n",
    "print(type(my_list))"
   ]
  },
  {
   "cell_type": "code",
   "execution_count": null,
   "id": "0df6f5ce",
   "metadata": {},
   "outputs": [],
   "source": [
    "courses = [\"Python\", \"Django\", \"Flask\", \"Ruby\", \"MongoDB\"] #strings\n",
    "numbers = [1, 2, 3, 4, 5] \n",
    "print(courses)\n",
    "print(numbers)"
   ]
  },
  {
   "cell_type": "code",
   "execution_count": null,
   "id": "1861894f",
   "metadata": {},
   "outputs": [],
   "source": [
    "# INDICES\n",
    "#              0        1         2        3        4\n",
    "#             -5      -4       -3         -2       -1\n",
    "courses = [\"Python\", \"Django\", \"Flask\", \"Ruby\", \"MongoDB\"] #strings (5)\n",
    "\n",
    "courses[0] = \"JavaScript\"\n",
    "courses[1] = \"TypeScript\"\n",
    "\n",
    "print(courses[0]) #primer elemento\n",
    "#obtener el ultimo elemento de la lista \n",
    "last_index = len(courses) - 1 \n",
    "print(courses[last_index]) #obtengo el ultimo elemento\n",
    "print(courses[-1]) #obtengo el ultimo elemento de forma pythonica\n",
    "print(courses)"
   ]
  },
  {
   "cell_type": "code",
   "execution_count": null,
   "id": "5b670892",
   "metadata": {},
   "outputs": [],
   "source": [
    "# SUBLISTAS(SLICING)\n",
    "#              0        1         2        3        4\n",
    "#             -5      -4       -3         -2       -1\n",
    "# list[start:end:skips(opcional)] -> [0:3] == [:3]\n",
    "courses = [\"Python\", \"Django\", \"Flask\", \"Ruby\", \"MongoDB\"] #strings (5)\n",
    "\n",
    "new_list = courses[:3]\n",
    "print(new_list)#primerso tres elementos\n",
    "\n",
    "new_list2 = courses[2:]\n",
    "print(new_list2)#ultimos 3 elementos\n",
    "\n",
    "new_list3 = courses[:] #shallow copy\n",
    "print(new_list3)\n",
    "\n",
    "print(courses[::2])#salto de 2 en 2\n",
    "\n",
    "print(courses[::-1])#obtener la lista invertida"
   ]
  },
  {
   "cell_type": "code",
   "execution_count": null,
   "id": "96fb0a82",
   "metadata": {},
   "outputs": [],
   "source": [
    "#METODOS DE LA LISTA (en ejecucion)\n",
    "#              0        1         2        3        4\n",
    "#             -5      -4       -3         -2       -1\n",
    "courses = [\"Python\", \"Django\", \"Flask\", \"Ruby\", \"MongoDB\", \"PHP\", \"Laravel\"] #strings (5)\n",
    "new_courses = [\"React\", \"Next\"]\n",
    "\n",
    "courses.append(\"Ruby on Rails\")#Agregar elemento al final\n",
    "print(courses)\n",
    "courses.insert(0, \"Rust\")#Agrego elemento por indice\n",
    "print(courses)\n",
    "courses.extend(new_courses)#extiendo la lista con otra lista\n",
    "print(courses)\n",
    "\n",
    "print(\"Python\" in courses)#el elemento se encuentra en la lista con (True/False)\n",
    "print(courses.index(\"Python\"))#el elemento se encuentra en la lista(indice)(Error)\n",
    "\n",
    "courses.remove(\"Python\")#eliminar elemento (Error)\n",
    "print(courses)\n",
    "courses.pop()#eliminar elemento por indice(-1, por defecto)\n",
    "print(courses)\n",
    "courses.clear()#limpiar lista por completo\n",
    "print(courses)"
   ]
  },
  {
   "cell_type": "code",
   "execution_count": null,
   "id": "58b6e0e8",
   "metadata": {},
   "outputs": [],
   "source": [
    "#METODOS DE LA LISTA 2 (en ejecucion)\n",
    "#copy, reverse, sort\n",
    "courses = [\"Python\", \"Django\", \"Flask\", \"Ruby\", \"MongoDB\", \"PHP\", \"Laravel\"] #strings (5)\n",
    "\n",
    "copy_list = courses[:]#copia de la lista, shallow copy\n",
    "print(copy_list)\n",
    "copy_list2 = courses.copy()#copia de la lista usando func()\n",
    "print(copy_list2)\n",
    "\n",
    "reverse_list = courses[::-1]#genera una lista invertida sin modificar la original\n",
    "print(reverse_list)\n",
    "courses.reverse()#modifica la lista original\n",
    "print(courses)\n",
    "\n",
    "courses.sort(reverse=True)#ordena la lista de forma descendente(modificando la lista original)\n",
    "print(courses)"
   ]
  },
  {
   "cell_type": "code",
   "execution_count": null,
   "id": "515ac23e",
   "metadata": {},
   "outputs": [],
   "source": [
    "# MATRICES\n",
    "#3x3\n",
    "matrix = [\n",
    "#    0  1  2\n",
    "    [1, 2, 3],  #0\n",
    "    [4, 5, 6],  #1    \n",
    "    [7, 8, 9]   #2\n",
    "]\n",
    "\n",
    "print(matrix) #[[1, 2, 3], [4, 5, 6], [7, 8, 9]]\n",
    "\n",
    "print(matrix[0][0]) #(0, 0) -> 1"
   ]
  }
 ],
 "metadata": {
  "kernelspec": {
   "display_name": "Python 3",
   "language": "python",
   "name": "python3"
  },
  "language_info": {
   "codemirror_mode": {
    "name": "ipython",
    "version": 3
   },
   "file_extension": ".py",
   "mimetype": "text/x-python",
   "name": "python",
   "nbconvert_exporter": "python",
   "pygments_lexer": "ipython3",
   "version": "3.13.7"
  }
 },
 "nbformat": 4,
 "nbformat_minor": 5
}
