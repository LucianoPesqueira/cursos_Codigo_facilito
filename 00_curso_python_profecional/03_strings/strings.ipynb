{
 "cells": [
  {
   "cell_type": "markdown",
   "id": "eba4aab9",
   "metadata": {},
   "source": [
    "# Strings\n",
    "\n",
    "los strings son colecciones inmutables al igual que las tuplas"
   ]
  },
  {
   "cell_type": "code",
   "execution_count": null,
   "id": "36b9b5c5",
   "metadata": {},
   "outputs": [
    {
     "name": "stdout",
     "output_type": "stream",
     "text": [
      "Hola mundo!\n",
      "<class 'str'>\n",
      "11\n",
      "False\n",
      "10\n",
      "d\n",
      "hola mundo!\n"
     ]
    }
   ],
   "source": [
    "#STRINGS\n",
    "message = 'Hola mundo!'\n",
    "print(message)\n",
    "print(type(message))\n",
    "print(len(message))\n",
    "\n",
    "print('?' in message)\n",
    "print(message.index('!'))\n",
    "print(message[-3])\n",
    "\n",
    "message2 = 'h' + message[1:]\n",
    "print(message2)"
   ]
  },
  {
   "cell_type": "code",
   "execution_count": 18,
   "id": "e5b30461",
   "metadata": {},
   "outputs": [
    {
     "name": "stdout",
     "output_type": "stream",
     "text": [
      "Python, PHP, Ruby, Django, MongoDB, Ruby on rails\n",
      "['Python', 'PHP', 'Ruby', 'Django', 'MongoDB', 'Ruby on rails']\n",
      "Python, PHP, Ruby, Django, MongoDB, Ruby on rails\n"
     ]
    }
   ],
   "source": [
    "#STRINGS como listas\n",
    "#split -> genera una lista a partir de un string\n",
    "#join -> genera un string a partir de una lista\n",
    "courses = 'Python, PHP, Ruby, Django, MongoDB, Ruby on rails'\n",
    "list_courses = courses.split(', ')\n",
    "\n",
    "print(courses)\n",
    "print(list_courses)\n",
    "\n",
    "courses2 = ['Python', 'PHP', 'Ruby', 'Django', 'MongoDB', 'Ruby on rails']\n",
    "message_courses = ', '.join(courses2)\n",
    "\n",
    "print(message_courses)\n"
   ]
  },
  {
   "cell_type": "code",
   "execution_count": 27,
   "id": "30c9cfc0",
   "metadata": {},
   "outputs": [
    {
     "name": "stdout",
     "output_type": "stream",
     "text": [
      "Eduardo García\n",
      "Eduardo García\n",
      "El nombre completo es: Eduardo García\n"
     ]
    }
   ],
   "source": [
    "#Generar nuevos trings\n",
    "name = 'Eduardo'\n",
    "last_name = 'García'\n",
    "\n",
    "#1\n",
    "full_name = name + ' ' + last_name\n",
    "print(full_name)\n",
    "\n",
    "#2\n",
    "full_name = ' '.join([name, last_name])\n",
    "print(full_name)\n",
    "\n",
    "#3 (%s) se usa mucho en logs\n",
    "full_name = 'El nombre completo es: %s %s' %(name, last_name)\n",
    "print(full_name)"
   ]
  },
  {
   "cell_type": "code",
   "execution_count": 34,
   "id": "82ec0c0c",
   "metadata": {},
   "outputs": [
    {
     "name": "stdout",
     "output_type": "stream",
     "text": [
      "El nombre completo es: Marcos Perez. Su edad es: 30\n",
      "El nombre completo es: Marcos Perez. Su edad es: 25\n",
      "El nombre completo es: Marcos Perez. Su edad es: 31. Active: True\n"
     ]
    }
   ],
   "source": [
    "#Metodo format\n",
    "#4 - format\n",
    "base = 'El nombre completo es: {} {}. Su edad es: {}'\n",
    "full_name = base.format(name, last_name, 30)\n",
    "print(full_name)\n",
    "\n",
    "name = 'Marcos'\n",
    "last_name = 'Perez'\n",
    "age = 25\n",
    "full_name = base.format(name, last_name, age)\n",
    "print(full_name)\n",
    "\n",
    "\n",
    "base = 'El nombre completo es: {name} {last_name}. Su edad es: {age}. Active: {active}'\n",
    "full_name = base.format(\n",
    "    name=name,\n",
    "    last_name=last_name,\n",
    "    active=True,\n",
    "    age=31\n",
    ")\n",
    "print(full_name)"
   ]
  },
  {
   "cell_type": "code",
   "execution_count": null,
   "id": "2f7cdb25",
   "metadata": {},
   "outputs": [
    {
     "name": "stdout",
     "output_type": "stream",
     "text": [
      "El nombre completo es: Marcos Perez\n"
     ]
    }
   ],
   "source": [
    "#F Strings\n",
    "name = 'Marcos'\n",
    "last_name = 'Perez'\n",
    "full_name = f'El nombre completo es: {name} {last_name}. Su edad es: {30}'\n",
    "print(full_name)"
   ]
  },
  {
   "cell_type": "code",
   "execution_count": 39,
   "id": "cb4a438a",
   "metadata": {},
   "outputs": [
    {
     "name": "stdout",
     "output_type": "stream",
     "text": [
      "Nombre completo:..Marcos..Perez\n"
     ]
    }
   ],
   "source": [
    "#Funcion print\n",
    "name = 'Marcos'\n",
    "last_name = 'Perez'\n",
    "print('Nombre completo:',name, last_name, sep='..')"
   ]
  },
  {
   "cell_type": "code",
   "execution_count": null,
   "id": "cb55d9cb",
   "metadata": {},
   "outputs": [
    {
     "name": "stdout",
     "output_type": "stream",
     "text": [
      "CURSO PROFESIONAL DE PYTHON!\n",
      "True\n",
      "4\n",
      "True\n",
      "True\n"
     ]
    }
   ],
   "source": [
    "#busqueda en listas\n",
    "title = 'Curso Profesional de Python!'\n",
    "\n",
    "print(title.upper())\n",
    "\n",
    "print(\n",
    "    'profesional' in title.lower()\n",
    ")\n",
    "print(\n",
    "    title.count('o')\n",
    ")\n",
    "print(\n",
    "    title.startswith('C')\n",
    ")\n",
    "print(\n",
    "    title.endswith('!')\n",
    ")"
   ]
  },
  {
   "cell_type": "code",
   "execution_count": null,
   "id": "666f8c1d",
   "metadata": {},
   "outputs": [
    {
     "name": "stdout",
     "output_type": "stream",
     "text": [
      "Curso Profesional de Python!\n",
      "10\n",
      "True\n",
      "    curso profesional de python!   \n",
      "Codigo facilito\n"
     ]
    }
   ],
   "source": [
    "#Metodo de listas\n",
    "title = '    Curso Profesional de Python!   '\n",
    "print(title.strip())#elimina todos los carateres vacios al principio y final\n",
    "print(title.find('P'))\n",
    "print('6'.isnumeric())\n",
    "print(title.capitalize())#primera letra en mayus\n",
    "message = 'codigo facilito'\n",
    "print(message[0].upper() + message[1:])#otra forma de colocar la primera letra en mayus"
   ]
  }
 ],
 "metadata": {
  "kernelspec": {
   "display_name": "Python 3",
   "language": "python",
   "name": "python3"
  },
  "language_info": {
   "codemirror_mode": {
    "name": "ipython",
    "version": 3
   },
   "file_extension": ".py",
   "mimetype": "text/x-python",
   "name": "python",
   "nbconvert_exporter": "python",
   "pygments_lexer": "ipython3",
   "version": "3.13.7"
  }
 },
 "nbformat": 4,
 "nbformat_minor": 5
}
