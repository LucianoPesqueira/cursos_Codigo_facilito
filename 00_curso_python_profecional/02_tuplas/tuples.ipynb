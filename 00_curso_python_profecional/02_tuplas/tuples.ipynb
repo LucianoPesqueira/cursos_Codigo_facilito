{
 "cells": [
  {
   "cell_type": "markdown",
   "id": "dc0f75a7",
   "metadata": {},
   "source": [
    "# TUPLAS"
   ]
  },
  {
   "cell_type": "markdown",
   "id": "59c8529c",
   "metadata": {},
   "source": [
    "#no se puede modificar **INMUTABLE**\n",
    "- tupla_name = (indice:0, 1, 2, 3....)\n",
    "- se utilizan para fines de: LECTURA O CONSULTAR VALORES\n",
    "- para conservar valores por el resto del programa\n",
    "- para crear tuplas puedo usar o no los () y si es de un solo valor basta con colocar una , al final"
   ]
  },
  {
   "cell_type": "code",
   "execution_count": null,
   "id": "5d08873f",
   "metadata": {},
   "outputs": [],
   "source": [
    "settings = (\"localhost\", 3306, True) #<class 'tuple'>\n",
    "\n",
    "print(settings)\n",
    "print(settings[-1])\n",
    "print(type(settings))\n",
    "#settings[1] = \"128.255.255.1\" #TypeError\n"
   ]
  },
  {
   "cell_type": "code",
   "execution_count": 7,
   "id": "4211fe6d",
   "metadata": {},
   "outputs": [
    {
     "name": "stdout",
     "output_type": "stream",
     "text": [
      "<class 'tuple'>\n"
     ]
    }
   ],
   "source": [
    "#crear tuplas\n",
    "numbers = 1, 2, 3, 4, 5 #tuple sin ()\n",
    "numbers_2 = 1, #tuple \n",
    "\n",
    "print(type(numbers_2))"
   ]
  },
  {
   "cell_type": "code",
   "execution_count": null,
   "id": "9d5a8041",
   "metadata": {},
   "outputs": [
    {
     "name": "stdout",
     "output_type": "stream",
     "text": [
      "Python Django Ruby Ruby on Rails MySQL\n"
     ]
    }
   ],
   "source": [
    "#desempaquetado - 1\n",
    "courses = (\n",
    "    \"Python\", \"Django\", \"Ruby\", \"Ruby on Rails\", \"MySQL\"\n",
    ")\n",
    "# var1 = courses[0]\n",
    "# var2 = courses[1]\n",
    "# var3 = courses[2]\n",
    "# var4 = courses[3]\n",
    "# var5 = courses[4]\n",
    "\n",
    "#var1, var2, var3, var4, var5 = courses[0], courses[1], courses[2], courses[3], courses[4]\n",
    "\n",
    "var1, var2, var3, var4, var5 = courses\n",
    "\n",
    "print(var1, var2, var3, var4, var5)"
   ]
  },
  {
   "cell_type": "code",
   "execution_count": 20,
   "id": "93bcf7b8",
   "metadata": {},
   "outputs": [
    {
     "name": "stdout",
     "output_type": "stream",
     "text": [
      "Python Ruby Ruby-on-Rails MySQL\n",
      "MongoDB\n",
      "Python Django ['Ruby', 'Ruby-on-Rails', 'MySQL'] MongoDB\n"
     ]
    }
   ],
   "source": [
    "#desempaquetado - 2\n",
    "courses = (\n",
    "    \"Python\", \"Django\", \"Ruby\", \"Ruby-on-Rails\", \"MySQL\", \"MongoDB\"\n",
    ")\n",
    "# _\n",
    "var1, _, var3, var4, var5, _ = courses #omito el valor 2 y 6\n",
    "\n",
    "print(var1, var3, var4, var5)\n",
    "print(_)\n",
    "\n",
    "var1, var2, *sub_curso, last_value = courses\n",
    "print(var1, var2, sub_curso, last_value)"
   ]
  },
  {
   "cell_type": "code",
   "execution_count": 23,
   "id": "6bc1c5e2",
   "metadata": {},
   "outputs": [
    {
     "name": "stdout",
     "output_type": "stream",
     "text": [
      "[('user1', 'python', 10), ('user2', 'Django', 8), ('user3', 'Rails', 7)]\n"
     ]
    }
   ],
   "source": [
    "#funcion ZIP\n",
    "users = [\"user1\", \"user2\", \"user3\"]\n",
    "courses = (\"python\", \"Django\", \"Rails\")\n",
    "scores = [10, 8, 7]\n",
    "\n",
    "response = list(zip(users, courses, scores))\n",
    "print(response)"
   ]
  },
  {
   "cell_type": "code",
   "execution_count": null,
   "id": "8a021c2f",
   "metadata": {},
   "outputs": [
    {
     "name": "stdout",
     "output_type": "stream",
     "text": [
      "8\n",
      "[10, 7, 5, 4, 3, 3, 2, 1]\n",
      "2\n",
      "True\n",
      "5\n"
     ]
    }
   ],
   "source": [
    "numbers = (\n",
    "    1, 4, 5, 3, 3, 7, 2, 10\n",
    ")\n",
    "\n",
    "print(len(numbers))\n",
    "print(sorted(numbers, reverse=True))#ordena una coleccion (por defecto:asc)\n",
    "print(numbers.count(3))#me indica cuantas veces se repite el valor\n",
    "print(3 in numbers)\n",
    "print(numbers.index(7))#obtener el indice del valor ingresado"
   ]
  }
 ],
 "metadata": {
  "kernelspec": {
   "display_name": "Python 3",
   "language": "python",
   "name": "python3"
  },
  "language_info": {
   "codemirror_mode": {
    "name": "ipython",
    "version": 3
   },
   "file_extension": ".py",
   "mimetype": "text/x-python",
   "name": "python",
   "nbconvert_exporter": "python",
   "pygments_lexer": "ipython3",
   "version": "3.13.5"
  }
 },
 "nbformat": 4,
 "nbformat_minor": 5
}
