{
 "cells": [
  {
   "cell_type": "code",
   "execution_count": null,
   "id": "a1368110",
   "metadata": {},
   "outputs": [
    {
     "name": "stdout",
     "output_type": "stream",
     "text": [
      "mensaje\n"
     ]
    }
   ],
   "source": [
    "#Pedir valores por teclado\n",
    "message = input(\"mensaje: \") #str\n",
    "print(message)"
   ]
  },
  {
   "cell_type": "code",
   "execution_count": 2,
   "id": "c3e72350",
   "metadata": {},
   "outputs": [
    {
     "name": "stdout",
     "output_type": "stream",
     "text": [
      "Marcos\n",
      "13\n",
      "True\n"
     ]
    }
   ],
   "source": [
    "first_name, age, is_active = \"Marcos\", 13, True\n",
    "print(first_name)\n",
    "print(age)\n",
    "print(is_active)"
   ]
  }
 ],
 "metadata": {
  "kernelspec": {
   "display_name": "Python 3",
   "language": "python",
   "name": "python3"
  },
  "language_info": {
   "codemirror_mode": {
    "name": "ipython",
    "version": 3
   },
   "file_extension": ".py",
   "mimetype": "text/x-python",
   "name": "python",
   "nbconvert_exporter": "python",
   "pygments_lexer": "ipython3",
   "version": "3.13.6"
  }
 },
 "nbformat": 4,
 "nbformat_minor": 5
}
