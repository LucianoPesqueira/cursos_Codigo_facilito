{
 "cells": [
  {
   "cell_type": "markdown",
   "id": "670bbe4b",
   "metadata": {},
   "source": [
    "# Diccionario\n",
    "- clave : valor\n",
    "- string, tuples, int, float, booleans son objetos inmutables\n",
    "- se definen objetos inmutables como llaves incluso **functions**"
   ]
  },
  {
   "cell_type": "code",
   "execution_count": 1,
   "id": "36e80427",
   "metadata": {},
   "outputs": [
    {
     "name": "stdout",
     "output_type": "stream",
     "text": [
      "{'name': 'User1', 'age': 31, 'active': True, 'courses': ['Python', 'Django', 'Redis'], 'setting': (123, True)}\n"
     ]
    }
   ],
   "source": [
    "user = {\n",
    "    'name': 'User1',\n",
    "    'age': 31,\n",
    "    'active': True,\n",
    "    'courses': [\n",
    "        'Python', 'Django', 'Redis'\n",
    "    ],\n",
    "    'setting': (123, True)\n",
    "}\n",
    "print(user)"
   ]
  },
  {
   "cell_type": "code",
   "execution_count": null,
   "id": "dec5eaff",
   "metadata": {},
   "outputs": [
    {
     "name": "stdout",
     "output_type": "stream",
     "text": [
      "{10: 'Eduardo', 3.14: 'Gerardo', True: False, (1, 2, 3): 'Tupla'}\n"
     ]
    }
   ],
   "source": [
    "#Llaves de diccionarios\n",
    "user = {\n",
    "    10: 'Eduardo',\n",
    "    3.14: 'Gerardo',\n",
    "    True: False,\n",
    "    (1,2,3): 'Tupla'\n",
    "}\n",
    "print(user)"
   ]
  },
  {
   "cell_type": "code",
   "execution_count": 18,
   "id": "a952ddfb",
   "metadata": {},
   "outputs": [
    {
     "name": "stdout",
     "output_type": "stream",
     "text": [
      "True\n",
      "Luciano\n",
      "Luciano\n",
      "{'name': 'Luciano', 'age': 31, 'active': True, 'courses': ['Python', 'Django', 'Redis'], 'setting': (123, True), 'last_name': 'Pesqueira'}\n"
     ]
    }
   ],
   "source": [
    "#Obtener elementos: \n",
    "# dict[key] --> key error\n",
    "# dict.get(key) --> evita el error y retorna none(por defecto)\n",
    "user = {\n",
    "    'name': 'Luciano',\n",
    "    'age': 31,\n",
    "    'active': True,\n",
    "    'courses': [\n",
    "        'Python', 'Django', 'Redis'\n",
    "    ],\n",
    "    'setting': (123, True)\n",
    "}\n",
    "print('name' in user)\n",
    "print(user['name'])\n",
    "#print(user['password'])\n",
    "user_name = user.get('name', 'El valor no existe')\n",
    "print(user_name)\n",
    "\n",
    "user['last_name'] = 'Pesqueira'\n",
    "print(user)"
   ]
  },
  {
   "cell_type": "code",
   "execution_count": null,
   "id": "7109dfc5",
   "metadata": {},
   "outputs": [
    {
     "name": "stdout",
     "output_type": "stream",
     "text": [
      "dict_keys(['name', 'age', 'active', 'courses', 'setting']) ['name', 'age', 'active', 'courses', 'setting'] ('name', 'age', 'active', 'courses', 'setting')\n",
      "dict_values(['Luciano', 31, True, ['Python', 'Django', 'Redis'], (123, True)])\n",
      "dict_items([('name', 'Luciano'), ('age', 31), ('active', True), ('courses', ['Python', 'Django', 'Redis']), ('setting', (123, True))])\n",
      "{'name': 'Luciano', 'age': 31, 'active': True, 'courses': ['Python', 'Django', 'Redis'], 'setting': (123, True)}\n"
     ]
    }
   ],
   "source": [
    "# Llaves, Valores y Pares\n",
    "user = {\n",
    "    'name': 'Luciano',\n",
    "    'age': 31,\n",
    "    'active': True,\n",
    "    'courses': [\n",
    "        'Python', 'Django', 'Redis'\n",
    "    ],\n",
    "    'setting': (123, True)\n",
    "}\n",
    "print(\n",
    "    user.keys(),\n",
    "    list(user.keys()),\n",
    "    tuple(user.keys())\n",
    ")\n",
    "print(\n",
    "    user.values()\n",
    ")\n",
    "print(\n",
    "    user.items()\n",
    ")"
   ]
  },
  {
   "cell_type": "code",
   "execution_count": null,
   "id": "288656f0",
   "metadata": {},
   "outputs": [
    {
     "name": "stdout",
     "output_type": "stream",
     "text": [
      "True\n",
      "0\n",
      "{}\n"
     ]
    }
   ],
   "source": [
    "# Actualizar diccionarios\n",
    "# update || [] || setdefault\n",
    "# setdefault: intenta obtener el valor que le paso, si no lo encuentra, lo crea y le puedo pasar un valor o no\n",
    "user = {\n",
    "    'name': 'Luciano',\n",
    "    'age': 31,\n",
    "    'active': True,\n",
    "    'courses': [\n",
    "        'Python', 'Django', 'Redis'\n",
    "    ],\n",
    "    'settings': (123, True)\n",
    "}\n",
    "user['name'] = 'Codigo'\n",
    "user['last_name'] = 'Facilito'\n",
    "\n",
    "user.setdefault('id', 100)\n",
    "\n",
    "courses = user.get('courses', [])\n",
    "courses.append('Ruby on Rails')\n",
    "courses.append('Rust')\n",
    "\n",
    "user.update({\n",
    "    'name' : 'Codigo',\n",
    "    'settings':None,\n",
    "    'last_name' : 'Facilito',\n",
    "    'courses': courses\n",
    "})\n",
    "\n",
    "del user['courses']#elimina la llave ->(keyError)\n",
    "value = user.pop('active')#elimina la llave y retorna el valor ->(keyError)\n",
    "print(value)\n",
    "\n",
    "user.clear()#limpia completamente el dict\n",
    "\n",
    "print(len(user))\n",
    "print(user)"
   ]
  }
 ],
 "metadata": {
  "kernelspec": {
   "display_name": "Python 3",
   "language": "python",
   "name": "python3"
  },
  "language_info": {
   "codemirror_mode": {
    "name": "ipython",
    "version": 3
   },
   "file_extension": ".py",
   "mimetype": "text/x-python",
   "name": "python",
   "nbconvert_exporter": "python",
   "pygments_lexer": "ipython3",
   "version": "3.13.7"
  }
 },
 "nbformat": 4,
 "nbformat_minor": 5
}
